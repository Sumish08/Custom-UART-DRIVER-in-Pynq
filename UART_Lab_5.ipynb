{
 "cells": [
  {
   "cell_type": "code",
   "execution_count": 1,
   "id": "697601da",
   "metadata": {},
   "outputs": [
    {
     "data": {
      "application/javascript": [
       "\n",
       "try {\n",
       "require(['notebook/js/codecell'], function(codecell) {\n",
       "  codecell.CodeCell.options_default.highlight_modes[\n",
       "      'magic_text/x-csrc'] = {'reg':[/^%%microblaze/]};\n",
       "  Jupyter.notebook.events.one('kernel_ready.Kernel', function(){\n",
       "      Jupyter.notebook.get_cells().map(function(cell){\n",
       "          if (cell.cell_type == 'code'){ cell.auto_highlight(); } }) ;\n",
       "  });\n",
       "});\n",
       "} catch (e) {};\n"
      ]
     },
     "metadata": {},
     "output_type": "display_data"
    },
    {
     "data": {
      "application/javascript": [
       "\n",
       "try {\n",
       "require(['notebook/js/codecell'], function(codecell) {\n",
       "  codecell.CodeCell.options_default.highlight_modes[\n",
       "      'magic_text/x-csrc'] = {'reg':[/^%%pybind11/]};\n",
       "  Jupyter.notebook.events.one('kernel_ready.Kernel', function(){\n",
       "      Jupyter.notebook.get_cells().map(function(cell){\n",
       "          if (cell.cell_type == 'code'){ cell.auto_highlight(); } }) ;\n",
       "  });\n",
       "});\n",
       "} catch (e) {};\n"
      ]
     },
     "metadata": {},
     "output_type": "display_data"
    }
   ],
   "source": [
    "from pynq import Overlay\n",
    "base_overlay = Overlay(\"system_wrapper.xsa\")"
   ]
  },
  {
   "cell_type": "code",
   "execution_count": 2,
   "id": "c63d3078",
   "metadata": {},
   "outputs": [],
   "source": [
    "base_overlay?"
   ]
  },
  {
   "cell_type": "code",
   "execution_count": 4,
   "id": "23f02b09",
   "metadata": {},
   "outputs": [
    {
     "name": "stdout",
     "output_type": "stream",
     "text": [
      "Help on DefaultIP in module pynq.overlay object:\n",
      "\n",
      "class DefaultIP(builtins.object)\n",
      " |  DefaultIP(description)\n",
      " |  \n",
      " |  Driver for an IP without a more specific driver\n",
      " |  \n",
      " |  This driver wraps an MMIO device and provides a base class\n",
      " |  for more specific drivers written later. It also provides\n",
      " |  access to GPIO outputs and interrupts inputs via attributes. More specific\n",
      " |  drivers should inherit from `DefaultIP` and include a\n",
      " |  `bindto` entry containing all of the IP that the driver\n",
      " |  should bind to. Subclasses meeting these requirements will\n",
      " |  automatically be registered.\n",
      " |  \n",
      " |  Attributes\n",
      " |  ----------\n",
      " |  mmio : pynq.MMIO\n",
      " |      Underlying MMIO driver for the device\n",
      " |  _interrupts : dict\n",
      " |      Subset of the PL.interrupt_pins related to this IP\n",
      " |  _gpio : dict\n",
      " |      Subset of the PL.gpio_dict related to this IP\n",
      " |  \n",
      " |  Methods defined here:\n",
      " |  \n",
      " |  __init__(self, description)\n",
      " |      Initialize self.  See help(type(self)) for accurate signature.\n",
      " |  \n",
      " |  read(self, offset=0)\n",
      " |      Read from the MMIO device\n",
      " |      \n",
      " |      Parameters\n",
      " |      ----------\n",
      " |      offset : int\n",
      " |          Address to read\n",
      " |  \n",
      " |  write(self, offset, value)\n",
      " |      Write to the MMIO device\n",
      " |      \n",
      " |      Parameters\n",
      " |      ----------\n",
      " |      offset : int\n",
      " |          Address to write to\n",
      " |      value : int or bytes\n",
      " |          Data to write\n",
      " |  \n",
      " |  ----------------------------------------------------------------------\n",
      " |  Readonly properties defined here:\n",
      " |  \n",
      " |  register_map\n",
      " |  \n",
      " |  signature\n",
      " |      The signature of the `call` method\n",
      " |  \n",
      " |  ----------------------------------------------------------------------\n",
      " |  Data descriptors defined here:\n",
      " |  \n",
      " |  __dict__\n",
      " |      dictionary for instance variables (if defined)\n",
      " |  \n",
      " |  __weakref__\n",
      " |      list of weak references to the object (if defined)\n",
      "\n"
     ]
    }
   ],
   "source": [
    "help(base_overlay.axi_uartlite_0)"
   ]
  },
  {
   "cell_type": "code",
   "execution_count": 27,
   "id": "9198ee78",
   "metadata": {},
   "outputs": [],
   "source": [
    "from pynq import DefaultIP\n",
    "import time\n",
    "\n",
    "class MyUartDriver(DefaultIP):\n",
    "    RX_FIFO_ADDR = 0x0\n",
    "    TX_FIFO_ADDR = 0x4\n",
    "    STAT_REG_ADDR = 0x8\n",
    "    CTRL_REG_ADDR = 0xC\n",
    "    \n",
    "    def __init__(self, description):\n",
    "        super().__init__(description=description)\n",
    "    \n",
    "    bindto = ['xilinx.com:ip:axi_uartlite:2.0']\n",
    "    \n",
    "    def write_data(self,data):\n",
    "        \"\"\" Writes a string to the UART one byte at a time.\"\"\"\n",
    "        for char in data:\n",
    "            one_byte = ord(char)\n",
    "            while self.get_stat()[\"Tx_FIFO_Full\"]:\n",
    "                time.sleep(0.01)\n",
    "            self.write(self.TX_FIFO_ADDR, one_byte)\n",
    "            \n",
    "            \n",
    "    def get_stat(self):\n",
    "        \"\"\" Return the UART status register info as a dictionary \"\"\"\n",
    "        \n",
    "        stat = self.read(self.STAT_REG_ADDR)\n",
    "        status = {\n",
    "            \"Parity_Error\"       : bool(stat & 0b10000000),\n",
    "            \"Frame_Error\"        : bool(stat & 0b01000000),\n",
    "            \"Overrun_Error\"      : bool(stat & 0b00100000),\n",
    "            \"Interrupt_Enabled\"  : bool(stat & 0b00010000),\n",
    "            \"Tx_FIFO_Full\"       : bool(stat & 0b00001000),\n",
    "            \"Tx_FIFO_Empty\"      : bool(stat & 0b00000100),\n",
    "            \"Rx_FIFO_Full\"       : bool(stat & 0b00000010),\n",
    "            \"Rx_FIFO_Valid_Data\" : bool(stat & 0b00000001)\n",
    "        }\n",
    "        return status\n",
    "    \n",
    "    def read_data(self):\n",
    "        \"\"\" Reads data from the UART's RX FIFO until it's empty.\"\"\"\n",
    "        data =[]\n",
    "        while self.get_stat()[\"Rx_FIFO_Valid_Data\"]:\n",
    "            byte = self.read(self.RX_FIFO_ADDR)\n",
    "            data.append(chr(byte))\n",
    "        return ''.join(data)\n",
    "    \n",
    "    def set_interrupt(self, enable):\n",
    "        \"\"\" set the UART interrupt based on the 'enable' flag. \"\"\"\n",
    "        current_value = self.read(self.CTRL_RG_ADDR)\n",
    "        if enable:\n",
    "            new_value = current_value | (1<<4)\n",
    "        else:\n",
    "            new_value = current_value & ~(1<<4)\n",
    "        self.write(self.CTRL_REG_ADDR, new_value)\n",
    "            \n",
    "    def rest_tx_fifo(self):\n",
    "        self._reset_fifo('tx')\n",
    "    \n",
    "    def reset_rx_fifo(self):\n",
    "        self._reset_fifo('rx')\n",
    "        \n",
    "    def _reset_fifo(self, fifo_type):\n",
    "        \"\"\"reset the specified FIFO ('tx' for transmit FIFO or 'rx' for receive FIFO).\"\"\"\n",
    "        bit_position = 0 if fifo_type =='tx' else 1\n",
    "        \n",
    "        current_value = self.read(self.CTRL_REG_ADDR)\n",
    "        new_value = current_value | (1<<bit_position)\n",
    "        self.write(self.CTRL_ADDR, new_value)\n",
    "        \n",
    "        \n",
    "        current_value = self.read(self.CTRL_REG_ADDR)\n",
    "        new_value = current_value & ~(1<<bit_position)\n",
    "        self.write(self.CTRL_ADDR, new_value)\n",
    "        "
   ]
  },
  {
   "cell_type": "code",
   "execution_count": 28,
   "id": "c008309f",
   "metadata": {},
   "outputs": [
    {
     "name": "stdout",
     "output_type": "stream",
     "text": [
      "Help on MyUartDriver in module __main__ object:\n",
      "\n",
      "class MyUartDriver(pynq.overlay.DefaultIP)\n",
      " |  MyUartDriver(description)\n",
      " |  \n",
      " |  Method resolution order:\n",
      " |      MyUartDriver\n",
      " |      pynq.overlay.DefaultIP\n",
      " |      builtins.object\n",
      " |  \n",
      " |  Methods defined here:\n",
      " |  \n",
      " |  __init__(self, description)\n",
      " |      Initialize self.  See help(type(self)) for accurate signature.\n",
      " |  \n",
      " |  get_stat(self)\n",
      " |      Return the UART status register info as a dictionary\n",
      " |  \n",
      " |  read_data(self)\n",
      " |      Reads data from the UART's RX FIFO until it's empty.\n",
      " |  \n",
      " |  reset_rx_fifo(self)\n",
      " |  \n",
      " |  rest_tx_fifo(self)\n",
      " |  \n",
      " |  set_interrupt(self, enable)\n",
      " |      set the UART interrupt based on the 'enable' flag.\n",
      " |  \n",
      " |  write_data(self, data)\n",
      " |      Writes a string to the UART one byte at a time.\n",
      " |  \n",
      " |  ----------------------------------------------------------------------\n",
      " |  Data and other attributes defined here:\n",
      " |  \n",
      " |  CTRL_REG_ADDR = 12\n",
      " |  \n",
      " |  RX_FIFO_ADDR = 0\n",
      " |  \n",
      " |  STAT_REG_ADDR = 8\n",
      " |  \n",
      " |  TX_FIFO_ADDR = 4\n",
      " |  \n",
      " |  bindto = ['xilinx.com:ip:axi_uartlite:2.0']\n",
      " |  \n",
      " |  ----------------------------------------------------------------------\n",
      " |  Methods inherited from pynq.overlay.DefaultIP:\n",
      " |  \n",
      " |  read(self, offset=0)\n",
      " |      Read from the MMIO device\n",
      " |      \n",
      " |      Parameters\n",
      " |      ----------\n",
      " |      offset : int\n",
      " |          Address to read\n",
      " |  \n",
      " |  write(self, offset, value)\n",
      " |      Write to the MMIO device\n",
      " |      \n",
      " |      Parameters\n",
      " |      ----------\n",
      " |      offset : int\n",
      " |          Address to write to\n",
      " |      value : int or bytes\n",
      " |          Data to write\n",
      " |  \n",
      " |  ----------------------------------------------------------------------\n",
      " |  Readonly properties inherited from pynq.overlay.DefaultIP:\n",
      " |  \n",
      " |  register_map\n",
      " |  \n",
      " |  signature\n",
      " |      The signature of the `call` method\n",
      " |  \n",
      " |  ----------------------------------------------------------------------\n",
      " |  Data descriptors inherited from pynq.overlay.DefaultIP:\n",
      " |  \n",
      " |  __dict__\n",
      " |      dictionary for instance variables (if defined)\n",
      " |  \n",
      " |  __weakref__\n",
      " |      list of weak references to the object (if defined)\n",
      "\n"
     ]
    }
   ],
   "source": [
    "base_overlay= Overlay(\"./system_wrapper.xsa\")\n",
    "uart = base_overlay.axi_uartlite_0\n",
    "help(uart)"
   ]
  },
  {
   "cell_type": "code",
   "execution_count": 16,
   "id": "6a119538",
   "metadata": {},
   "outputs": [
    {
     "data": {
      "text/plain": [
       "'/root/jupyter_notebooks/labs/lab_5_pynq/Funes_A'"
      ]
     },
     "execution_count": 16,
     "metadata": {},
     "output_type": "execute_result"
    }
   ],
   "source": [
    "pwd"
   ]
  },
  {
   "cell_type": "code",
   "execution_count": 34,
   "id": "204a94c7",
   "metadata": {},
   "outputs": [
    {
     "data": {
      "text/plain": [
       "{'Parity_Error': False,\n",
       " 'Frame_Error': True,\n",
       " 'Overrun_Error': False,\n",
       " 'Interrupt_Enabled': False,\n",
       " 'Tx_FIFO_Full': False,\n",
       " 'Tx_FIFO_Empty': True,\n",
       " 'Rx_FIFO_Full': False,\n",
       " 'Rx_FIFO_Valid_Data': False}"
      ]
     },
     "execution_count": 34,
     "metadata": {},
     "output_type": "execute_result"
    }
   ],
   "source": [
    "uart.get_stat()"
   ]
  },
  {
   "cell_type": "raw",
   "id": "0a0bb9ef",
   "metadata": {},
   "source": []
  },
  {
   "cell_type": "code",
   "execution_count": 35,
   "id": "48c7ff4f",
   "metadata": {},
   "outputs": [],
   "source": [
    "uart.write_data(\"Hello World!\")"
   ]
  },
  {
   "cell_type": "code",
   "execution_count": 36,
   "id": "76e9e592",
   "metadata": {},
   "outputs": [],
   "source": [
    "time.sleep(5)"
   ]
  },
  {
   "cell_type": "code",
   "execution_count": 37,
   "id": "0c4648c9",
   "metadata": {},
   "outputs": [],
   "source": [
    "data = uart.read_data()"
   ]
  },
  {
   "cell_type": "code",
   "execution_count": 38,
   "id": "96b2b153",
   "metadata": {},
   "outputs": [
    {
     "name": "stdout",
     "output_type": "stream",
     "text": [
      "Hello World!\n"
     ]
    }
   ],
   "source": [
    "print(data)"
   ]
  },
  {
   "cell_type": "code",
   "execution_count": null,
   "id": "ed07d0f5",
   "metadata": {},
   "outputs": [],
   "source": []
  }
 ],
 "metadata": {
  "kernelspec": {
   "display_name": "Python 3 (ipykernel)",
   "language": "python",
   "name": "python3"
  },
  "language_info": {
   "codemirror_mode": {
    "name": "ipython",
    "version": 3
   },
   "file_extension": ".py",
   "mimetype": "text/x-python",
   "name": "python",
   "nbconvert_exporter": "python",
   "pygments_lexer": "ipython3",
   "version": "3.10.12"
  }
 },
 "nbformat": 4,
 "nbformat_minor": 5
}
